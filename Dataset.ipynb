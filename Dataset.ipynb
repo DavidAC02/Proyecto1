{
 "cells": [
  {
   "cell_type": "code",
   "execution_count": 1,
   "id": "c15ff779-95a7-4558-bd31-757fe3cfbf68",
   "metadata": {},
   "outputs": [],
   "source": [
    "import cv2\n",
    "import os\n",
    "import numpy as np\n",
    "import random\n",
    "import pickle"
   ]
  },
  {
   "cell_type": "code",
   "execution_count": 2,
   "id": "bbb1ef17-a780-42df-bbaa-9d2d6ee6f907",
   "metadata": {},
   "outputs": [],
   "source": [
    "DATADIR = 'Sellos/' ##En este folder tengo los folders de mis imágenes\n",
    "Categories = ['Adenovirus', 'Ameba', 'Levadura', 'Penicilina', 'Phage', 'Sarcoptes', 'Sars-Cov-2', 'Sreptomyces coelicolor', 'Tardigrado',  'Tryponosoma']##Estos son los nombres de cada folder con imágenes\n",
    "IMG_SIZE=300"
   ]
  },
  {
   "cell_type": "code",
   "execution_count": 3,
   "id": "9e650f5c-a77c-4fe6-a9a3-7d8100792cd3",
   "metadata": {},
   "outputs": [],
   "source": [
    "training_data = []\n",
    "\n",
    "def create_training_data():\n",
    "    for category in Categories:\n",
    "        path = os.path.join(DATADIR, category)\n",
    "        class_num = Categories.index(category)\n",
    "        for img in os.listdir(path):\n",
    "            try:\n",
    "                img_array = cv2.imread(os.path.join(path,img), cv2.IMREAD_GRAYSCALE)\n",
    "                img_N_array = cv2.resize(img_array,(IMG_SIZE,IMG_SIZE))\n",
    "                img_Vec = (np.asarray(img_N_array)).flatten()\n",
    "                training_data.append([img_N_array,img_Vec, class_num])\n",
    "            except Exception as e:\n",
    "                pass\n",
    "##sea crea el dataset con tres partes en cada entrada,\n",
    "##[la matriz para poder imprimir la imágen, el vector con el que quiero usar KNN, la etiqueta que me dice a cual de las imágenes pertenece]            \n",
    "create_training_data()"
   ]
  },
  {
   "cell_type": "code",
   "execution_count": 4,
   "id": "66a9efa8-fa24-40c3-bfd3-4024143def56",
   "metadata": {},
   "outputs": [],
   "source": [
    "random.shuffle(training_data)"
   ]
  },
  {
   "cell_type": "code",
   "execution_count": 5,
   "id": "45f884a5-cf3d-472c-9fea-2f863e9892e2",
   "metadata": {},
   "outputs": [],
   "source": [
    "Z=[]##Para guardar las matrices\n",
    "X=[]##Para guardar los vectores\n",
    "y=[]##Para guardar las etiquetas\n",
    "\n",
    "\n",
    "for image, features, label in training_data:\n",
    "    Z.append(image) \n",
    "    X.append(features)\n",
    "    y.append(label)"
   ]
  },
  {
   "cell_type": "code",
   "execution_count": 6,
   "id": "261ce505-7ad4-4564-9f18-9c1b6f17ab98",
   "metadata": {},
   "outputs": [],
   "source": [
    "#Guardo todo para no tener que hacer lo anterior otra vez\n",
    "pickle_out = open('X.pickle','wb')\n",
    "pickle.dump(X, pickle_out)\n",
    "pickle_out.close()\n",
    "\n",
    "pickle_out = open('y.pickle','wb')\n",
    "pickle.dump(y, pickle_out)\n",
    "pickle_out.close()\n",
    "\n",
    "pickle_out = open('Z.pickle','wb')\n",
    "pickle.dump(Z, pickle_out)\n",
    "pickle_out.close()"
   ]
  }
 ],
 "metadata": {
  "kernelspec": {
   "display_name": "Python 3",
   "language": "python",
   "name": "python3"
  },
  "language_info": {
   "codemirror_mode": {
    "name": "ipython",
    "version": 3
   },
   "file_extension": ".py",
   "mimetype": "text/x-python",
   "name": "python",
   "nbconvert_exporter": "python",
   "pygments_lexer": "ipython3",
   "version": "3.8.8"
  }
 },
 "nbformat": 4,
 "nbformat_minor": 5
}
